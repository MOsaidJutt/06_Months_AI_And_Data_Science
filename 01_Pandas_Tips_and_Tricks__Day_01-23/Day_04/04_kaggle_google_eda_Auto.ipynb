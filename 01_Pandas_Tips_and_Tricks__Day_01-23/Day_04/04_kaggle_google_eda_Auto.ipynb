{
 "cells": [
  {
   "cell_type": "markdown",
   "metadata": {},
   "source": [
    "# Google App Store EDA"
   ]
  },
  {
   "cell_type": "markdown",
   "metadata": {},
   "source": [
    "- `App`: Name of the application.\n",
    "- `Category`: Category of the app (e.g., Art & Design).\n",
    "- `Rating`: Average user rating on the Google Play Store.\n",
    "- `Reviews`: Number of user reviews.\n",
    "- `Size`: Size of the app.\n",
    "- `Installs`: Number of user installations.\n",
    "- `Type`: Indicates if the app is free or paid.\n",
    "- `Price`: Price of the app (if paid).\n",
    "- `Content Rating`: Maturity level of the app (e.g., Everyone, Teen).\n",
    "- `Genres`: Genre(s) of the app.\n",
    "- `Last Updated`: Date of the last update on the Play Store.\n",
    "- `Current Ver`: Current version of the app.\n",
    "- `Android Ver`: Minimum Android version required.\n"
   ]
  },
  {
   "cell_type": "code",
   "execution_count": 3,
   "metadata": {},
   "outputs": [],
   "source": [
    "# import libraries\n",
    "import pandas as pd\n",
    "import ydata_profiling as yd"
   ]
  },
  {
   "cell_type": "code",
   "execution_count": 4,
   "metadata": {},
   "outputs": [],
   "source": [
    "# data import\n",
    "df = pd.read_csv(\"googleplaystore.csv\")"
   ]
  },
  {
   "cell_type": "code",
   "execution_count": 5,
   "metadata": {},
   "outputs": [
    {
     "name": "stderr",
     "output_type": "stream",
     "text": [
      "Summarize dataset:   0%|          | 0/5 [00:00<?, ?it/s]"
     ]
    },
    {
     "name": "stderr",
     "output_type": "stream",
     "text": [
      "Summarize dataset:  75%|███████▌  | 15/20 [00:04<00:01,  3.16it/s, Calculate auto correlation]     c:\\Users\\User\\.conda\\envs\\ydata_profiling\\lib\\site-packages\\ydata_profiling\\model\\correlations.py:66: UserWarning: There was an attempt to calculate the auto correlation, but this failed.\n",
      "To hide this warning, disable the calculation\n",
      "(using `df.profile_report(correlations={\"auto\": {\"calculate\": False}})`\n",
      "If this is problematic for your use case, please report this as an issue:\n",
      "https://github.com/ydataai/ydata-profiling/issues\n",
      "(include the error message: 'could not convert string to float: '4.0.3 and up'')\n",
      "  warnings.warn(\n",
      "Summarize dataset:  81%|████████▏ | 22/27 [00:13<00:07,  1.48s/it, Missing diagram heatmap]   c:\\Users\\User\\.conda\\envs\\ydata_profiling\\lib\\site-packages\\seaborn\\matrix.py:260: FutureWarning: Format strings passed to MaskedConstant are ignored, but in future may error or produce different behavior\n",
      "  annotation = (\"{:\" + self.fmt + \"}\").format(val)\n",
      "c:\\Users\\User\\.conda\\envs\\ydata_profiling\\lib\\site-packages\\ydata_profiling\\model\\missing.py:78: UserWarning: There was an attempt to generate the Heatmap missing values diagrams, but this failed.\n",
      "To hide this warning, disable the calculation\n",
      "(using `df.profile_report(missing_diagrams={\"Heatmap\": False}`)\n",
      "If this is problematic for your use case, please report this as an issue:\n",
      "https://github.com/ydataai/ydata-profiling/issues\n",
      "(include the error message: 'could not convert string to float: '--'')\n",
      "  warnings.warn(\n",
      "Summarize dataset: 100%|██████████| 27/27 [00:13<00:00,  2.02it/s, Completed]               \n",
      "Generate report structure: 100%|██████████| 1/1 [00:10<00:00, 10.22s/it]\n",
      "Render HTML: 100%|██████████| 1/1 [00:02<00:00,  2.16s/it]\n",
      "Export report to file: 100%|██████████| 1/1 [00:00<00:00, 28.32it/s]\n"
     ]
    }
   ],
   "source": [
    "# run automatic eda using ydata-profiling library\n",
    "profile = yd.ProfileReport(df)\n",
    "profile.to_file(output_file='ydata_googleplaystore_kaggle.html')"
   ]
  },
  {
   "cell_type": "code",
   "execution_count": null,
   "metadata": {},
   "outputs": [],
   "source": []
  }
 ],
 "metadata": {
  "kernelspec": {
   "display_name": "Python 3",
   "language": "python",
   "name": "python3"
  },
  "language_info": {
   "codemirror_mode": {
    "name": "ipython",
    "version": 3
   },
   "file_extension": ".py",
   "mimetype": "text/x-python",
   "name": "python",
   "nbconvert_exporter": "python",
   "pygments_lexer": "ipython3",
   "version": "3.10.0"
  }
 },
 "nbformat": 4,
 "nbformat_minor": 2
}
