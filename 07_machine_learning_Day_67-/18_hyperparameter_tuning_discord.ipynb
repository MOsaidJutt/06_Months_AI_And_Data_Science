{
 "cells": [
  {
   "cell_type": "markdown",
   "metadata": {},
   "source": [
    "# Hyperparameter Tuning\n",
    "\n",
    "Hyperparameter tuning is the process of finding the best combination of hyperparameter for a given model.\n",
    "\n",
    "**Types:**\n",
    "\n",
    "- Grid Search: Exhaustive Search over all possible combinations of hyperparameters.\n",
    "- Random Search: Randomly sample combinations of hyperparameters from a given distribution.\n",
    "- Bayesian Optimization: Model the objective function and search for the maximum.\n",
    "- Gradient-based-optimization: Use gradient descent to find the minimum of the objective function."
   ]
  },
  {
   "cell_type": "markdown",
   "metadata": {},
   "source": [
    "# Cross Validation\n",
    "Cross validation is a technique to evaluate a model on unseen data. It is used to check how well the model grneralizes to new data."
   ]
  },
  {
   "cell_type": "code",
   "execution_count": 1,
   "metadata": {},
   "outputs": [],
   "source": [
    "# Import libraries\n",
    "from sklearn.ensemble import RandomForestClassifier\n",
    "from sklearn.model_selection import GridSearchCV, train_test_split\n",
    "from sklearn.metrics import accuracy_score, confusion_matrix, classification_report"
   ]
  },
  {
   "cell_type": "code",
   "execution_count": 2,
   "metadata": {},
   "outputs": [],
   "source": [
    "# load the data\n",
    "from sklearn.datasets import load_iris\n",
    "\n",
    "iris = load_iris()\n",
    "X = iris.data\n",
    "y = iris.target"
   ]
  },
  {
   "cell_type": "code",
   "execution_count": 3,
   "metadata": {},
   "outputs": [
    {
     "name": "stdout",
     "output_type": "stream",
     "text": [
      "Fitting 5 folds for each of 168 candidates, totalling 840 fits\n",
      "Best Parameters: {'bootstrap': True, 'criterion': 'gini', 'max_depth': 4, 'n_estimators': 50}\n",
      "CPU times: total: 1.52 s\n",
      "Wall time: 1min 30s\n"
     ]
    }
   ],
   "source": [
    "%%time\n",
    "# define the model\n",
    "model = RandomForestClassifier()\n",
    "\n",
    "# create the parameter grid\n",
    "param_grid = {\n",
    "    'n_estimators': [50, 100, 200, 300, 400, 500], #6\n",
    "    # 'max_features': ['auto', 'sqrt', 'log2'],\n",
    "    'max_depth': [4, 5, 6, 7, 8, 9, 10], #7\n",
    "    'criterion': ['gini', 'entropy'], #2\n",
    "    'bootstrap': [True, False] #2           if we multiply all above (6*7*2*2) then it will be 168 (its the number mention in first output line as soon as we run the model)\n",
    "}\n",
    "\n",
    "# set up the grid search\n",
    "grid = GridSearchCV(\n",
    "    estimator=model,\n",
    "    param_grid=param_grid,\n",
    "    cv=5,\n",
    "    scoring='accuracy',\n",
    "    verbose=1,\n",
    "    n_jobs=-1   \n",
    ")\n",
    "\n",
    "# fit the model\n",
    "grid.fit(X, y)\n",
    "\n",
    "# print the best parameters\n",
    "print(f'Best Parameters: {grid.best_params_}')"
   ]
  },
  {
   "cell_type": "markdown",
   "metadata": {},
   "source": [
    "# above is grid classification"
   ]
  },
  {
   "cell_type": "markdown",
   "metadata": {},
   "source": [
    "# RandomizedSearchCV"
   ]
  },
  {
   "cell_type": "code",
   "execution_count": 4,
   "metadata": {},
   "outputs": [
    {
     "name": "stdout",
     "output_type": "stream",
     "text": [
      "Fitting 5 folds for each of 20 candidates, totalling 100 fits\n",
      "Best Parameters: {'n_estimators': 200, 'max_depth': 7, 'criterion': 'gini', 'bootstrap': True}\n",
      "CPU times: total: 312 ms\n",
      "Wall time: 9.28 s\n"
     ]
    }
   ],
   "source": [
    "%%time\n",
    "\n",
    "from sklearn.model_selection import RandomizedSearchCV\n",
    "# define the model\n",
    "model = RandomForestClassifier()\n",
    "\n",
    "# create the parameter grid\n",
    "param_grid = {\n",
    "    'n_estimators': [50, 100, 200, 300, 400, 500],\n",
    "    # 'max_features': ['auto', 'sqrt', 'log2'],\n",
    "    'max_depth': [4, 5, 6, 7, 8, 9, 10],\n",
    "    'criterion': ['gini', 'entropy'],\n",
    "    'bootstrap': [True, False]\n",
    "}\n",
    "\n",
    "# set up the grid search\n",
    "grid = RandomizedSearchCV(\n",
    "    estimator=model,\n",
    "    param_distributions=param_grid,\n",
    "    cv=5,\n",
    "    scoring='accuracy',\n",
    "    verbose=1,\n",
    "    n_jobs=-1,\n",
    "    n_iter=20\n",
    ")\n",
    "\n",
    "# fit the model\n",
    "grid.fit(X, y)\n",
    "\n",
    "# print the best parameters\n",
    "print(f'Best Parameters: {grid.best_params_}')"
   ]
  }
 ],
 "metadata": {
  "kernelspec": {
   "display_name": "python_ml",
   "language": "python",
   "name": "python3"
  },
  "language_info": {
   "codemirror_mode": {
    "name": "ipython",
    "version": 3
   },
   "file_extension": ".py",
   "mimetype": "text/x-python",
   "name": "python",
   "nbconvert_exporter": "python",
   "pygments_lexer": "ipython3",
   "version": "3.11.8"
  }
 },
 "nbformat": 4,
 "nbformat_minor": 2
}
